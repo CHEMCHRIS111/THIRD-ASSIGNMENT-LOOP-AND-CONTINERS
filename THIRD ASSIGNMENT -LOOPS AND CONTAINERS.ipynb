{
 "cells": [
  {
   "cell_type": "markdown",
   "id": "f42e2d85-098e-4dcb-8d08-643f75c2812d",
   "metadata": {},
   "source": [
    "## 1) Write a program that count down from 10 to 1, then prints \"Blast off!\""
   ]
  },
  {
   "cell_type": "code",
   "execution_count": null,
   "id": "a6719b3d-8941-4ee3-86c7-602953d92d65",
   "metadata": {},
   "outputs": [],
   "source": [
    "for i in range(10, 0, -1):\n",
    "    print(i)\n",
    "\n",
    "print(\"Blast off!\")"
   ]
  },
  {
   "cell_type": "markdown",
   "id": "91d5c725-2e5b-4c20-9613-bac083dc5339",
   "metadata": {},
   "source": [
    "## 2. write a program that finds all numbers between 1 and 1000 that are divisible by 7"
   ]
  },
  {
   "cell_type": "code",
   "execution_count": null,
   "id": "ba9ef064-5da5-4fc7-b375-9ef6dbb97598",
   "metadata": {},
   "outputs": [],
   "source": [
    "for i in range (1, 1001):\n",
    "    if i %7==0:\n",
    "        print (i)\n",
    "print(\"nice one\")"
   ]
  },
  {
   "cell_type": "markdown",
   "id": "910213a0-a714-464c-b07f-55edaf63c821",
   "metadata": {},
   "source": [
    "## 3. give a list of numbers, find and print the largest and smallest values "
   ]
  },
  {
   "cell_type": "code",
   "execution_count": null,
   "id": "c7e89676-8536-43fb-9036-be88f4512d41",
   "metadata": {},
   "outputs": [],
   "source": [
    "numbers = [23, 5, 89, 12, 56, 3, 99,45]\n",
    "\n",
    "largest = max(numbers)\n",
    "smallest = min(numbers)\n",
    "\n",
    "print(\"the largest number is:\", largest)\n",
    "print(\"the smallest number is:\", smallest)"
   ]
  },
  {
   "cell_type": "markdown",
   "id": "31c317d0-51fa-4737-906e-a537a311d303",
   "metadata": {},
   "source": [
    "## 4. write a program that remove all duplicate values from a list and print the unique element"
   ]
  },
  {
   "cell_type": "code",
   "execution_count": null,
   "id": "b8d0652a-5165-45b2-a90b-893b2acb4c08",
   "metadata": {},
   "outputs": [],
   "source": [
    "numbers = float(input(\"Enter your numbers\"))\n",
    "\n",
    "unique_numbers = list(set(numbers))\n",
    "\n",
    "print(\"Unique elements in the list are :\", unique_numbers)\n"
   ]
  },
  {
   "cell_type": "markdown",
   "id": "0635d3cc-ae15-44f9-b3f2-2edd9034fa09",
   "metadata": {},
   "source": [
    "## 5. write a program that finds the most common element in a list and how many times it appear"
   ]
  },
  {
   "cell_type": "code",
   "execution_count": null,
   "id": "d536c25f-ffc6-4adf-8373-fe9759f58ed1",
   "metadata": {},
   "outputs": [],
   "source": [
    "from collections import Counter \n",
    "\n",
    "my_list = [3,1,2,3,4,3,2,2,2]\n",
    "counter = counter(my_list)\n",
    "\n",
    "most_common_element, count = counter.most_common(1)[0]\n",
    "print(f\"the most common element is {most_common_element} (appears {count}times)\")"
   ]
  },
  {
   "cell_type": "markdown",
   "id": "63dd6a61-095e-4c96-a775-f12af97982d4",
   "metadata": {},
   "source": [
    "## 6. create a program that counts the number of vowels and consonants in a sentence "
   ]
  },
  {
   "cell_type": "code",
   "execution_count": null,
   "id": "b4d86beb-825e-4896-bcf6-f25e5fa880d6",
   "metadata": {},
   "outputs": [],
   "source": [
    "sentence = input(\"Enter sentence \")\n",
    "\n",
    "vowels = \"aeiouAEIOU\"\n",
    "\n",
    "vowel_count = 0\n",
    "consonant_count = 0\n",
    "\n",
    "for char in sentence: \n",
    "    if char.isaplha():\n",
    "        if char in vowels:\n",
    "            vowel.count +1 =1\n",
    "        else: \n",
    "            consonant_count +1 = 1\n",
    "print(f\"Number of vowels: {vowel_count}\")\n",
    "print(f\"Number of consonant: {consonant_count}\")"
   ]
  },
  {
   "cell_type": "markdown",
   "id": "a534816c-26fe-47fa-a05f-3fcea80cb860",
   "metadata": {},
   "source": [
    "## 7. write a program that finds the longest word in a sentence entered by the user"
   ]
  },
  {
   "cell_type": "code",
   "execution_count": null,
   "id": "4e75d428-9948-4ab4-a78b-dd68657753c6",
   "metadata": {},
   "outputs": [],
   "source": [
    "sentence = input(\"Enter senten: \")\n",
    "\n",
    "words = sentence.split()\n",
    "longest_word = \"\"\n",
    "max_length = 0\n",
    "\n",
    "for word in words:\n",
    "    if len(word)> max_length:\n",
    "        max_length = len(word)\n",
    "        longest_word = word\n",
    "print(f\"the longest word is: '{longest_word}' with {max_length} characters.\")"
   ]
  },
  {
   "cell_type": "markdown",
   "id": "e41e07fb-65fd-4596-aa05-3479945881b0",
   "metadata": {},
   "source": [
    "## 8. create a program that removes all spaces from a string and prints it as contineous words"
   ]
  },
  {
   "cell_type": "code",
   "execution_count": null,
   "id": "f8c2bd2c-aff2-4724-8308-9120d1d02a8b",
   "metadata": {},
   "outputs": [],
   "source": [
    "sentence = input(\"Enter the sentence:\")\n",
    "sentence_without_space = sentence.replace(\"\",\"\")\n",
    "print(\"sentence without space:\", sentence)"
   ]
  },
  {
   "cell_type": "markdown",
   "id": "f4be1edf-bdb0-412e-96fb-6ccbbbff6481",
   "metadata": {},
   "source": [
    "## 9. create a program that sum user-entered number until the total exceeds 100, then stop"
   ]
  },
  {
   "cell_type": "code",
   "execution_count": null,
   "id": "d17dcddb-77a7-4d06-8eea-9c408eb32050",
   "metadata": {},
   "outputs": [],
   "source": [
    "total = 0\n",
    "while total <= 100:\n",
    "    number = float(input(\"Enter number:\"))\n",
    "    total += number\n",
    "print(\"the total is now 100. final total:\", total)"
   ]
  },
  {
   "cell_type": "markdown",
   "id": "8eb1b5c1-b18e-480a-a3e8-02fce95308f6",
   "metadata": {},
   "source": [
    "## 10. write a program using a while loop that keeps asking for a password until the user eners \"secret123\""
   ]
  },
  {
   "cell_type": "code",
   "execution_count": null,
   "id": "f9c0b6a6-de86-4941-8775-6e7f6d5b538f",
   "metadata": {},
   "outputs": [],
   "source": [
    "password = input(\"Enter your password\")\n",
    "\n",
    "while password != \"secret123\":\n",
    "    print(\"wrong password, try again:\")\n",
    "    password = input(\"Enter password\")\n",
    "print(\"login successful\")"
   ]
  },
  {
   "cell_type": "markdown",
   "id": "57b30a93-80c5-4bcd-98f2-d7db1f07e52e",
   "metadata": {},
   "source": [
    "## 11. write a program that print all even number between 1 and 50"
   ]
  },
  {
   "cell_type": "code",
   "execution_count": null,
   "id": "a973c802-95ac-47c2-93cf-fca4ead1d424",
   "metadata": {},
   "outputs": [],
   "source": [
    "for i in range (1, 50):\n",
    "    if i %2==0:\n",
    "        print(f\"{i} is an even number\")"
   ]
  },
  {
   "cell_type": "markdown",
   "id": "e96b027a-7a84-499c-9cbf-a45fb207491e",
   "metadata": {},
   "source": [
    "## 12. create a program that print the fibonacci squeence up a specific count provided by the user"
   ]
  },
  {
   "cell_type": "code",
   "execution_count": null,
   "id": "7c2ee993-6a90-4754-aa59-b79782ef8833",
   "metadata": {},
   "outputs": [],
   "source": []
  },
  {
   "cell_type": "markdown",
   "id": "b22ffba2-8a4e-4a42-ab97-dab2dbf3b6a0",
   "metadata": {},
   "source": [
    "## 13. write a program that prints the multilplication table of a numbered entered by the user up to 10"
   ]
  },
  {
   "cell_type": "code",
   "execution_count": null,
   "id": "2ede15b9-b6dc-4986-b978-933dd4971325",
   "metadata": {},
   "outputs": [],
   "source": [
    "number = int(input(\"Enter a number: \"))\n",
    "\n",
    "print(f\"\\nMultiplication Table for {number}:\\n\")\n",
    "for i in range(1, 11):\n",
    "    result = number * i\n",
    "    print(f\"{number} x {i} = {result}\")"
   ]
  },
  {
   "cell_type": "markdown",
   "id": "447aee6e-9b21-4ff8-b9b7-146e2dec3bb4",
   "metadata": {},
   "source": [
    "## 14. write a program that ask the user to enter number repeatedly and stop when the user enters a negative numbers, then print the list of entered number"
   ]
  },
  {
   "cell_type": "code",
   "execution_count": null,
   "id": "48fcea06-513a-4be1-b80a-b668a0b3bfa4",
   "metadata": {},
   "outputs": [],
   "source": [
    "numbers = []\n",
    "\n",
    "while True:\n",
    "    user_input = input(\"enter a number (negative to stop):\")\n",
    "num = int(user_input)\n",
    "if num< 0:\n",
    "    break\n",
    "numbers.append(num)\n",
    "print(\"number you enter:\", numbers)\n"
   ]
  },
  {
   "cell_type": "markdown",
   "id": "fcc6268d-5b92-495f-8dd0-b225c0899bfd",
   "metadata": {},
   "source": [
    "## 15. write a program that keeps asking for a number until the user enters 0, then output the sum of all the entered numbers"
   ]
  },
  {
   "cell_type": "code",
   "execution_count": null,
   "id": "49000c4f-e35b-471d-bab3-f8bcaa7c562a",
   "metadata": {},
   "outputs": [],
   "source": [
    "total = 0\n",
    "\n",
    "while True:\n",
    "    num = int(input(\"Enter a number (0 to stop): \"))\n",
    "    \n",
    "    if num == 0:\n",
    "        break  \n",
    "    \n",
    "    total += num\n",
    "\n",
    "print(\"The sum of the entered numbers is:\", total)"
   ]
  },
  {
   "cell_type": "markdown",
   "id": "3284f62b-8c9c-4c8c-a967-d643e068d1ff",
   "metadata": {},
   "source": [
    "## 16. create a program that finds the smallest power fo 2 greater that a number entered by the user"
   ]
  },
  {
   "cell_type": "code",
   "execution_count": null,
   "id": "0dad5c3b-2121-41e2-8355-c6c25e833195",
   "metadata": {},
   "outputs": [],
   "source": [
    "number = int(input(\"Enter a number: \"))\n",
    "\n",
    "power = 0\n",
    "result = 1\n",
    "\n",
    "while result <= number:\n",
    "    power += 1\n",
    "    result = 2 ** power\n",
    "\n",
    "print(f\"The smallest power of 2 greater than {number} is 2^{power} = {result}\")\n"
   ]
  }
 ],
 "metadata": {
  "kernelspec": {
   "display_name": "Python 3 (ipykernel)",
   "language": "python",
   "name": "python3"
  },
  "language_info": {
   "codemirror_mode": {
    "name": "ipython",
    "version": 3
   },
   "file_extension": ".py",
   "mimetype": "text/x-python",
   "name": "python",
   "nbconvert_exporter": "python",
   "pygments_lexer": "ipython3",
   "version": "3.12.7"
  }
 },
 "nbformat": 4,
 "nbformat_minor": 5
}
